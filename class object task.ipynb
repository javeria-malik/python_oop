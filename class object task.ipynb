{
 "cells": [
  {
   "cell_type": "markdown",
   "id": "80384b90",
   "metadata": {},
   "source": [
    "Create a class called Rectangle with attributes length and width. \n",
    "Implement a method area that calculates and returns the area of the \n",
    "rectangle."
   ]
  },
  {
   "cell_type": "code",
   "execution_count": 4,
   "id": "dd8e04ac",
   "metadata": {},
   "outputs": [
    {
     "name": "stdout",
     "output_type": "stream",
     "text": [
      "238\n"
     ]
    }
   ],
   "source": [
    "class Rectangle:\n",
    "    def __init__(self,length,width):\n",
    "        self.length=length\n",
    "        self.width=width\n",
    "    def area(self):\n",
    "        print(self.length*self.width)# can also use return instead of print\n",
    "a=Rectangle(14,17)\n",
    "a.area()"
   ]
  },
  {
   "cell_type": "markdown",
   "id": "ba674520",
   "metadata": {},
   "source": [
    "Create a class called Person with attributes name and age. Implement a \n",
    "method introduce that prints out a greeting message introducing the \n",
    "person with their name and age."
   ]
  },
  {
   "cell_type": "code",
   "execution_count": 9,
   "id": "14164492",
   "metadata": {},
   "outputs": [
    {
     "data": {
      "text/plain": [
       "'Hello! javeria . you currently age is 20 . nice to meet you'"
      ]
     },
     "execution_count": 9,
     "metadata": {},
     "output_type": "execute_result"
    }
   ],
   "source": [
    "class Person:\n",
    "    def __init__(self,name,age):\n",
    "        self.name=name\n",
    "        self.age=age\n",
    "    def introduce(self):\n",
    "        return f\"Hello! {self.name} . you currently age is {self.age} . nice to meet you\"\n",
    "g=Person(\"javeria\",20)\n",
    "g.introduce()"
   ]
  },
  {
   "cell_type": "code",
   "execution_count": 10,
   "id": "2528cc31",
   "metadata": {},
   "outputs": [
    {
     "name": "stdout",
     "output_type": "stream",
     "text": [
      "Hello! jiya . you currently age is 20 . nice to meet you\n"
     ]
    }
   ],
   "source": [
    "#another method\n",
    "class Person:\n",
    "    def __init__(self,name,age):\n",
    "        self.name=name\n",
    "        self.age=age\n",
    "    def __str__(self):# there is no need to give function name \n",
    "        return f\"Hello! {self.name} . you currently age is {self.age} . nice to meet you\"\n",
    "g=Person(\"jiya\",20)\n",
    "print(g)# str_function is used \n",
    "        "
   ]
  },
  {
   "cell_type": "markdown",
   "id": "ebbeb3d1",
   "metadata": {},
   "source": [
    "Create a class called Car with attributes make, model, and year. \n",
    "Implement a method start that prints a message indicating the car has \n",
    "started."
   ]
  },
  {
   "cell_type": "code",
   "execution_count": 17,
   "id": "f39c620a",
   "metadata": {},
   "outputs": [
    {
     "name": "stdout",
     "output_type": "stream",
     "text": [
      "the car BMW BMW 3 SERIES from 2021 has started\n",
      "BMW\n",
      "BMW 3 SERIES\n"
     ]
    }
   ],
   "source": [
    "class car:\n",
    "    def __init__(self,make,model,year):\n",
    "        self.make=make\n",
    "        self.model=  model\n",
    "        self.year=year\n",
    "    def start(self):\n",
    "        print(f\"the car {self.make} {self.model} from {self.year} has started\")\n",
    "c=car(\"BMW\",\"BMW 3 SERIES\",2021)\n",
    "c.start()\n",
    "print(c.make)\n",
    "print(c.model)"
   ]
  },
  {
   "cell_type": "markdown",
   "id": "d2934198",
   "metadata": {},
   "source": [
    "Create a class called Circle with attribute radius. Implement methods \n",
    "area and circumference that calculate and return the area and \n",
    "circumference of the circle, respectively."
   ]
  },
  {
   "cell_type": "code",
   "execution_count": 21,
   "id": "0ce66ab9",
   "metadata": {},
   "outputs": [
    {
     "name": "stdout",
     "output_type": "stream",
     "text": [
      "153.86\n",
      "43.96\n"
     ]
    }
   ],
   "source": [
    "class circle:\n",
    "    def __init__(self,radius):\n",
    "        self.radius=radius\n",
    "    def area(self):\n",
    "        print(3.14*self.radius**2)# since the value of pi is 3.14 formula is pi*r**2\n",
    "    def circumference(self):\n",
    "        print(2*3.14*self.radius)\n",
    "c=circle(7)\n",
    "c.area()\n",
    "c.circumference()"
   ]
  },
  {
   "cell_type": "code",
   "execution_count": 22,
   "id": "7d065651",
   "metadata": {},
   "outputs": [],
   "source": [
    "#another method "
   ]
  },
  {
   "cell_type": "code",
   "execution_count": 23,
   "id": "903607f5",
   "metadata": {},
   "outputs": [],
   "source": [
    "import math # by importing math module can give pi value"
   ]
  },
  {
   "cell_type": "code",
   "execution_count": 24,
   "id": "230e7e28",
   "metadata": {},
   "outputs": [
    {
     "name": "stdout",
     "output_type": "stream",
     "text": [
      "380.132711084365\n",
      "69.11503837897544\n"
     ]
    }
   ],
   "source": [
    "class circle:\n",
    "    def __init__(self,radius):\n",
    "        self.radius=radius\n",
    "    def area(self):\n",
    "        print(math.pi*self.radius**2)# since the value of pi is 3.14 formula is pi*r**2\n",
    "    def circumference(self):\n",
    "        print(2*math.pi*self.radius)\n",
    "c=circle(11)\n",
    "c.area()\n",
    "c.circumference()"
   ]
  },
  {
   "cell_type": "markdown",
   "id": "09fddd18",
   "metadata": {},
   "source": [
    "Create a class called Student with attributes name, grade, and scores. \n",
    "Implement a method average_score that calculates and returns the \n",
    "average score of the student."
   ]
  },
  {
   "cell_type": "code",
   "execution_count": 14,
   "id": "9d2d4661",
   "metadata": {},
   "outputs": [
    {
     "name": "stdout",
     "output_type": "stream",
     "text": [
      "the average score of all subjects is  61.75\n"
     ]
    }
   ],
   "source": [
    "class Student:\n",
    "    def __init__(self,name,grade,scores):\n",
    "        self.name=name\n",
    "        self.grade=grade\n",
    "        self.scores=scores\n",
    "    def average_scores(self):\n",
    "        total_scores=sum(self.scores)\n",
    "        average=total_scores/len(self.scores)# len will give total number of elements \n",
    "        print(\"the average score of all subjects is \",average)\n",
    "s=Student(\"jiya\",14,[70,76,56,45])\n",
    "s.average_scores()"
   ]
  },
  {
   "cell_type": "code",
   "execution_count": 16,
   "id": "81804575",
   "metadata": {},
   "outputs": [
    {
     "name": "stdout",
     "output_type": "stream",
     "text": [
      "name is  malik\n",
      "the average score of all subjects is  29.75\n",
      "grade is A\n"
     ]
    }
   ],
   "source": [
    "# can also use tuple instead of list\n",
    "s=Student(\"malik\",\"A\",(20,29,30,40))\n",
    "print(\"name is \",s.name)\n",
    "s.average_scores()\n",
    "print(\"grade is\",s.grade)"
   ]
  },
  {
   "cell_type": "markdown",
   "id": "dbd3d330",
   "metadata": {},
   "source": [
    "Create a class called Book with attributes title, author, and year. \n",
    "Implement a method display that prints out the book's title, author, and \n",
    "year in a formatted manner."
   ]
  },
  {
   "cell_type": "code",
   "execution_count": 7,
   "id": "a799f61d",
   "metadata": {},
   "outputs": [
    {
     "name": "stdout",
     "output_type": "stream",
     "text": [
      "The title is :The war of life\n",
      " The author is :incidence of life\n",
      " Year is :from birth to death\n"
     ]
    }
   ],
   "source": [
    "class Book:\n",
    "    def __init__(self,title,author,year):\n",
    "        self.title=title\n",
    "        self.author=author\n",
    "        self.year=year\n",
    "    def display(self):\n",
    "        print(f\"The title is :{self.title}\")\n",
    "        print( f\" The author is :{self.author}\")\n",
    "        print( f\" Year is :{self.year}\")\n",
    "c=Book(\"The war of life\",\"incidence of life\",\"from birth to death\")\n",
    "c.display()"
   ]
  },
  {
   "cell_type": "markdown",
   "id": "ab131344",
   "metadata": {},
   "source": [
    "Create a class called Triangle with attributes side1, side2, and side3. \n",
    "Implement a method is_equilateral that checks whether the triangle is \n",
    "equilateral (all sides are equal"
   ]
  },
  {
   "cell_type": "code",
   "execution_count": 7,
   "id": "8a3ee5a5",
   "metadata": {},
   "outputs": [
    {
     "name": "stdout",
     "output_type": "stream",
     "text": [
      "condition false\n"
     ]
    }
   ],
   "source": [
    "class Triangle:\n",
    "    def __init__(self,side1,side2,side3):\n",
    "        self.side1=side1\n",
    "        self.side2=side2\n",
    "        self.side3=side3\n",
    "    def is_equiliteral(self):\n",
    "        if self.side1==self.side2==self.side3:\n",
    "            print(\"is_equilateral\")\n",
    "        else:\n",
    "            print(\"condition false\")\n",
    "t=Triangle(34,65,34)\n",
    "t.is_equiliteral()"
   ]
  },
  {
   "cell_type": "code",
   "execution_count": 8,
   "id": "e8419794",
   "metadata": {},
   "outputs": [
    {
     "name": "stdout",
     "output_type": "stream",
     "text": [
      "is_equilateral\n"
     ]
    }
   ],
   "source": [
    "t=Triangle(34,34,34)\n",
    "t.is_equiliteral()"
   ]
  },
  {
   "cell_type": "markdown",
   "id": "f3fb4f56",
   "metadata": {},
   "source": [
    "Create a class called Employee with attributes name, position, and \n",
    "salary. Implement a method raise_salary that increases the employee's \n",
    "salary by a certain percentage."
   ]
  },
  {
   "cell_type": "code",
   "execution_count": 9,
   "id": "3cb6b1ab",
   "metadata": {},
   "outputs": [
    {
     "name": "stdout",
     "output_type": "stream",
     "text": [
      "50000\n",
      "58500.0\n"
     ]
    }
   ],
   "source": [
    "class Employee:\n",
    "    def __init__(self, name, position, salary):\n",
    "        self.name = name\n",
    "        self.position = position\n",
    "        self.salary = salary\n",
    "\n",
    "    def raise_salary(self, percentage):\n",
    "        increase = self.salary * percentage / 100\n",
    "        self.salary += increase\n",
    "employee1 = Employee(\"jiya\", \"programmer\", 50000\n",
    "print(employee1.salary) \n",
    "employee1.raise_salary(17)\n",
    "print(employee1.salary)\n",
    "\n"
   ]
  },
  {
   "cell_type": "markdown",
   "id": "b1d12269",
   "metadata": {},
   "source": [
    "Create a class called Bank with attributes name and branches. \n",
    "Implement a method add_branch that adds a new branch to the bank"
   ]
  },
  {
   "cell_type": "code",
   "execution_count": 10,
   "id": "fd952ee4",
   "metadata": {},
   "outputs": [
    {
     "name": "stdout",
     "output_type": "stream",
     "text": [
      "[]\n",
      "['Branch A']\n"
     ]
    }
   ],
   "source": [
    "class Bank:\n",
    "    def __init__(self, name):\n",
    "        self.name = name\n",
    "        self.branches = []\n",
    "\n",
    "    def add_branch(self, branch):\n",
    "        self.branches.append(branch)\n",
    "bank = Bank(\"MyBank\")\n",
    "print(bank.branches)  \n",
    "bank.add_branch(\"Branch A\")\n",
    "print(bank.branches)  \n",
    "\n"
   ]
  },
  {
   "cell_type": "code",
   "execution_count": null,
   "id": "9a5e25d0",
   "metadata": {},
   "outputs": [],
   "source": []
  }
 ],
 "metadata": {
  "kernelspec": {
   "display_name": "Python 3",
   "language": "python",
   "name": "python3"
  },
  "language_info": {
   "codemirror_mode": {
    "name": "ipython",
    "version": 3
   },
   "file_extension": ".py",
   "mimetype": "text/x-python",
   "name": "python",
   "nbconvert_exporter": "python",
   "pygments_lexer": "ipython3",
   "version": "3.8.8"
  }
 },
 "nbformat": 4,
 "nbformat_minor": 5
}
