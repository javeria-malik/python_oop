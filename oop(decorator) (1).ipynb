{
 "cells": [
  {
   "cell_type": "code",
   "execution_count": 3,
   "id": "666acd1e",
   "metadata": {},
   "outputs": [
    {
     "name": "stdout",
     "output_type": "stream",
     "text": [
      "good morning\n",
      "hello universe\n",
      "thanks for using this function\n"
     ]
    }
   ],
   "source": [
    "# decorator is use to modify the function\n",
    "def greet(fx):\n",
    "    def mfx():\n",
    "        print(\"good morning\")\n",
    "        fx()\n",
    "        print(\"thanks for using this function\")\n",
    "    return mfx\n",
    "@greet\n",
    "def hello():\n",
    "    print(\"hello universe\")\n",
    "hello()"
   ]
  },
  {
   "cell_type": "code",
   "execution_count": 4,
   "id": "6609c6e0",
   "metadata": {},
   "outputs": [],
   "source": [
    "# decorator modifie the function amd new function is called modified function\n"
   ]
  },
  {
   "cell_type": "code",
   "execution_count": 5,
   "id": "3d6e68ab",
   "metadata": {},
   "outputs": [
    {
     "name": "stdout",
     "output_type": "stream",
     "text": [
      "good morning\n",
      "16\n",
      "thanks for using this function\n"
     ]
    }
   ],
   "source": [
    "def greet(fx):\n",
    "    def mfx(*args,**kwargs):\n",
    "        print(\"good morning\")\n",
    "        fx(*args,**kwargs)\n",
    "        print(\"thanks for using this function\")\n",
    "    return mfx\n",
    "def add(a,b):\n",
    "    print(a+b)\n",
    "greet(add)(9,7)"
   ]
  },
  {
   "cell_type": "code",
   "execution_count": 6,
   "id": "7caf908e",
   "metadata": {},
   "outputs": [
    {
     "name": "stdout",
     "output_type": "stream",
     "text": [
      "welcome in coding world\n",
      "solution is not found\n",
      "wish u for better luck\n"
     ]
    }
   ],
   "source": [
    "# the method when there is no need to give argument\n",
    "def welcome(mt):\n",
    "    def ag():\n",
    "        print(\"welcome in coding world\")\n",
    "        mt()\n",
    "        print(\"wish u for better luck\")\n",
    "    return ag\n",
    "@welcome\n",
    "def problem():\n",
    "    print(\"solution is not found\")\n",
    "problem()\n",
    "        "
   ]
  },
  {
   "cell_type": "code",
   "execution_count": 7,
   "id": "5a1a189b",
   "metadata": {},
   "outputs": [
    {
     "name": "stdout",
     "output_type": "stream",
     "text": [
      "welcome in F....n wedding\n",
      "we have no cute payal wali she became rare\n",
      "wait for around 5 years ... difficult but its ok\n",
      "😢\n"
     ]
    }
   ],
   "source": [
    "def wedding(a):\n",
    "    def b():\n",
    "        print(\"welcome in F....n wedding\")\n",
    "        a()\n",
    "        print(\"wait for around 5 years ... difficult but its ok\")\n",
    "    return b\n",
    "@wedding\n",
    "def sad():\n",
    "    print(\"we have no cute payal wali she became rare\")\n",
    "sad()\n",
    "crying_face = '\\U0001F622'\n",
    "print(crying_face)\n"
   ]
  },
  {
   "cell_type": "code",
   "execution_count": 8,
   "id": "93549297",
   "metadata": {},
   "outputs": [
    {
     "name": "stdout",
     "output_type": "stream",
     "text": [
      "multiplication is\n",
      "64\n",
      "thanks\n"
     ]
    }
   ],
   "source": [
    "def element(c):\n",
    "    def d(*args,**kwargs):\n",
    "        print(\"multiplication is\")\n",
    "        c(*args,**kwargs)\n",
    "        print(\"thanks\")\n",
    "    return d\n",
    "@element\n",
    "def multiple(a,b):\n",
    "    print(a*b)\n",
    "multiple(8,8)\n"
   ]
  },
  {
   "cell_type": "code",
   "execution_count": 9,
   "id": "614d1ec3",
   "metadata": {},
   "outputs": [
    {
     "name": "stdout",
     "output_type": "stream",
     "text": [
      "multiplication is\n",
      "13.0\n",
      "thanks\n"
     ]
    }
   ],
   "source": [
    "@element\n",
    "def division(a,b):\n",
    "    print(a/b)\n",
    "division(78,6)"
   ]
  },
  {
   "cell_type": "code",
   "execution_count": 10,
   "id": "5fecaa51",
   "metadata": {},
   "outputs": [
    {
     "name": "stdout",
     "output_type": "stream",
     "text": [
      "modulus is\n",
      "the modulus is 36\n",
      "thanks\n"
     ]
    }
   ],
   "source": [
    "def element(e):\n",
    "    def f(*args,**kwargs):\n",
    "        print(\"modulus is\")\n",
    "        e(*args,**kwargs)\n",
    "        print(\"thanks\")\n",
    "    return f\n",
    "@element\n",
    "def modulus(a,b):\n",
    "    print(f\"the modulus is {a**b}\")\n",
    "modulus(6,2)\n"
   ]
  },
  {
   "cell_type": "code",
   "execution_count": 12,
   "id": "d357fe03",
   "metadata": {},
   "outputs": [
    {
     "name": "stdout",
     "output_type": "stream",
     "text": [
      "Do something before the function is called.\n",
      "This is my function.\n",
      "args: (2, 3, 4, 5)\n",
      "kwargs: {'a': 'hello'}\n",
      "Do something after the function is called.\n"
     ]
    }
   ],
   "source": [
    "def my_decorator(func):\n",
    "    def wrapper(*args, **kwargs):\n",
    "        print(\"Do something before the function is called.\")\n",
    "        result = func(*args, **kwargs)\n",
    "        print(\"Do something after the function is called.\")\n",
    "        return result\n",
    "    return wrapper\n",
    "\n",
    "@my_decorator\n",
    "def my_function(*args, **kwargs):\n",
    "    print(\"This is my function.\")\n",
    "    print(f\"args: {args}\")\n",
    "    print(f\"kwargs: {kwargs}\")\n",
    "my_function(2,3,4,5,a=\"hello\")"
   ]
  },
  {
   "cell_type": "code",
   "execution_count": 14,
   "id": "992ffc9a",
   "metadata": {},
   "outputs": [
    {
     "name": "stdout",
     "output_type": "stream",
     "text": [
      "Do something before the function is called.\n",
      "This is my function.\n",
      "args: ([7, 8, 9], ['m'])\n",
      "kwargs: {'c': 'jiya', 'd': 'malik', 'f': '2:02pm'}\n",
      "Do something after the function is called.\n"
     ]
    }
   ],
   "source": [
    "my_function([7,8,9],[\"m\"],c=\"jiya\",d=\"malik\",f=\"2:02pm\")# it will print same or almost same at kwargs and other in args"
   ]
  },
  {
   "cell_type": "code",
   "execution_count": 16,
   "id": "6622191e",
   "metadata": {},
   "outputs": [
    {
     "name": "stdout",
     "output_type": "stream",
     "text": [
      "Do something before the function is called.\n",
      "This is my function.\n",
      "args: ([7, 8, 9], 'malik')\n",
      "kwargs: {'c': 'jiya', 'd': 'malik', 'f': '2:02pm'}\n",
      "Do something after the function is called.\n"
     ]
    }
   ],
   "source": [
    "my_function([7,8,9],\"malik\",c=\"jiya\",d=\"malik\",f=\"2:02pm\")"
   ]
  },
  {
   "cell_type": "code",
   "execution_count": null,
   "id": "b1dd4f45",
   "metadata": {},
   "outputs": [],
   "source": []
  }
 ],
 "metadata": {
  "kernelspec": {
   "display_name": "Python 3",
   "language": "python",
   "name": "python3"
  },
  "language_info": {
   "codemirror_mode": {
    "name": "ipython",
    "version": 3
   },
   "file_extension": ".py",
   "mimetype": "text/x-python",
   "name": "python",
   "nbconvert_exporter": "python",
   "pygments_lexer": "ipython3",
   "version": "3.8.8"
  }
 },
 "nbformat": 4,
 "nbformat_minor": 5
}
